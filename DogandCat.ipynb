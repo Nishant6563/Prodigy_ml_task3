{
 "cells": [
  {
   "cell_type": "markdown",
   "id": "42f9b2e9-b895-4809-8ef2-65a65435ef9d",
   "metadata": {},
   "source": [
    "# Implement a SVM to clarify Images of Cats and Dogs"
   ]
  },
  {
   "cell_type": "raw",
   "id": "fed37382-5198-4883-803f-634f096ae367",
   "metadata": {},
   "source": [
    "In this project, I am implementing a Support Vector Machine (SVM) to categorize images of cats and dogs from the Kaggle dataset. By harnessing the SVM's proficiency in handling complex image data, the model discerns intricate patterns and features within the images. Through meticulous training and evaluation, the SVM accurately distinguishes between cats and dogs, showcasing its robustness in image classification tasks. This project serves as a testament to the SVM's effectiveness in real-world applications, making it a valuable tool for diverse image recognition challenges.\n",
    "\n",
    "Dataset: https://www.kaggle.com/c/dogs-vs-cats/data\n",
    "\n",
    "SVMs offer significant advantages in image classification due to their robust handling of high-dimensional data, such as images. Unlike neural networks and other algorithms, SVMs demonstrate a reduced tendency to overfit, enhancing their reliability in diverse datasets.\n",
    "\n",
    "In the realm of machine learning, model training relies on input data and corresponding expected output data. The process involves several essential phases:\n",
    "\n",
    "1.Import Necessary Libraries: Begin by importing the essential libraries required for the task.\n",
    "\n",
    "2.Load Images and Convert to Dataframe: Load images from the dataset and transform them into a structured dataframe format for processing.\n",
    "\n",
    "3.Separate Input Features and Targets: Divide the data into input features and their corresponding target labels to prepare for model training.\n",
    "\n",
    "4.Split Train and Test Data: Split the dataset into training and testing subsets, allocating a portion for training the model and another for evaluating its performance.\n",
    "\n",
    "5.Build and Train the Model: Construct the Support Vector Machine (SVM) model and train it using the training data.\n",
    "\n",
    "6.Model Evaluation: Assess the model's performance by evaluating its predictions against the test data, employing metrics like accuracy, precision, and recall.\n",
    "\n",
    "7.Prediction: Utilize the trained model to make predictions on new, unseen data, enabling real-world applications of the image classification system.\n",
    "\n",
    "8.These phases collectively form the foundation for creating an effective image classification model using Support Vector Machines in machine learning."
   ]
  },
  {
   "cell_type": "code",
   "execution_count": 23,
   "id": "409b75d3-b4d7-4889-a6bc-c5f9ed9a95d7",
   "metadata": {},
   "outputs": [
    {
     "name": "stdout",
     "output_type": "stream",
     "text": [
      "Requirement already satisfied: opencv-python in c:\\users\\91988\\appdata\\local\\programs\\python\\python310\\lib\\site-packages (4.10.0.84)\n",
      "Requirement already satisfied: numpy>=1.19.3 in c:\\users\\91988\\appdata\\local\\programs\\python\\python310\\lib\\site-packages (from opencv-python) (1.26.4)\n",
      "Note: you may need to restart the kernel to use updated packages.\n"
     ]
    },
    {
     "name": "stderr",
     "output_type": "stream",
     "text": [
      "\n",
      "[notice] A new release of pip available: 22.3.1 -> 24.1.1\n",
      "[notice] To update, run: C:\\Users\\91988\\AppData\\Local\\Programs\\Python\\Python310\\python.exe -m pip install --upgrade pip\n"
     ]
    }
   ],
   "source": [
    "pip install opencv-python"
   ]
  },
  {
   "cell_type": "code",
   "execution_count": 24,
   "id": "543199c8-ccd4-4e06-a575-75bf62fcea3f",
   "metadata": {},
   "outputs": [],
   "source": [
    "import os\n",
    "import numpy as np\n",
    "from sklearn.svm import SVC\n",
    "from sklearn.metrics import classification_report, confusion_matrix\n",
    "import matplotlib.pyplot as plt\n",
    "from tqdm import tqdm\n",
    "import joblib\n",
    "from sklearn.model_selection import GridSearchCV\n",
    "import cv2\n",
    "import seaborn as sns\n",
    "import time\n",
    "from sklearn.decomposition import PCA\n",
    "from sklearn.pipeline import Pipeline\n",
    "from sklearn.model_selection import train_test_split"
   ]
  },
  {
   "cell_type": "code",
   "execution_count": 30,
   "id": "55d95c86-e717-40e9-b078-2c571a31fb79",
   "metadata": {},
   "outputs": [],
   "source": [
    "dir='C:\\\\Users\\\\91988\\\\Desktop\\\\dog v cat pre\\\\dogs-vs-cats\\\\train\\\\train'"
   ]
  },
  {
   "cell_type": "code",
   "execution_count": 34,
   "id": "c97a6425-7d93-44f0-b3a3-bb747842e3d6",
   "metadata": {},
   "outputs": [],
   "source": [
    "categories= ['Cat', 'Dog']\n",
    "\n",
    "data=[]"
   ]
  },
  {
   "cell_type": "raw",
   "id": "53268c5b-04df-4bb3-a485-e394839cff84",
   "metadata": {},
   "source": [
    "for category in categories:\n",
    "    path=os.path.join(dir,category)\n",
    "    label=categories.index(category)\n",
    "    for img in os.listdir(path):\n",
    "            imgpath=os.path.join(path,img)\n",
    "            pet_img=cv2.imread(imgpath,0)\n",
    "            try:\n",
    "                pet_img=cv2.resize(pet_img,(50,50))\n",
    "                image=np.array(pet_img).flatten()\n",
    "                data.append([image,label])\n",
    "            except Exception as e:\n",
    "                pass"
   ]
  },
  {
   "cell_type": "code",
   "execution_count": 36,
   "id": "80f2d99c-081c-46f8-9cde-1d273b5a9b95",
   "metadata": {},
   "outputs": [],
   "source": [
    "pick_in=open('data1.pickle','wb')\n",
    "pickle.dump(data,pick_in)\n",
    "pick_in.close()"
   ]
  },
  {
   "cell_type": "code",
   "execution_count": 37,
   "id": "0c04417e-41f8-4772-9ade-76f78b5534d9",
   "metadata": {},
   "outputs": [],
   "source": [
    "pick_in=open('data1.pickle','rb')\n",
    "data=pickle.load(pick_in)\n",
    "pick_in.close()"
   ]
  },
  {
   "cell_type": "code",
   "execution_count": 38,
   "id": "cdb06a65-a917-4c31-b895-c267452678a3",
   "metadata": {},
   "outputs": [],
   "source": [
    "random.shuffle(data)\n",
    "features=[]\n",
    "labels=[]\n",
    "\n",
    "for feature, label in data:\n",
    "    features.append(feature)\n",
    "    labels.append(label)"
   ]
  },
  {
   "cell_type": "raw",
   "id": "26698405-f6e4-4e4f-b546-e4ccc7ef8add",
   "metadata": {},
   "source": [
    "xtrain, xtest, ytrain,ytest= train_test_split(features, labels, test_size=0.01)"
   ]
  },
  {
   "cell_type": "markdown",
   "id": "34a04bc7-fab6-43a3-9588-21dee701dca7",
   "metadata": {},
   "source": [
    "#model= SVC(C=1, kernel='poly', gamma='auto')\n",
    "#model.fit(xtrain, ytrain)\n",
    "\n",
    "\n",
    "pick=open('model.sav','rb')\n",
    "model=pickle.load(pick)\n",
    "pick.close()\n",
    "prediction=model.predict(xtest)\n",
    "\n",
    "accuracy=model.score(xtest,ytest)\n",
    "\n",
    "categories=['Cat', 'Dog']\n",
    "\n",
    "print('Accuracy is: ', accuracy)\n",
    "print('Prediction is: ', categories[prediction[0]])\n",
    "\n",
    "mypet=xtest[0].reshape(50,50)\n",
    "plt.imshow(mypet, cmap='gray')\n",
    "plt.show()"
   ]
  },
  {
   "cell_type": "code",
   "execution_count": null,
   "id": "93ba26a3-4beb-4aa6-a314-404a649db0d2",
   "metadata": {},
   "outputs": [],
   "source": []
  }
 ],
 "metadata": {
  "kernelspec": {
   "display_name": "Python 3 (ipykernel)",
   "language": "python",
   "name": "python3"
  },
  "language_info": {
   "codemirror_mode": {
    "name": "ipython",
    "version": 3
   },
   "file_extension": ".py",
   "mimetype": "text/x-python",
   "name": "python",
   "nbconvert_exporter": "python",
   "pygments_lexer": "ipython3",
   "version": "3.10.0"
  }
 },
 "nbformat": 4,
 "nbformat_minor": 5
}
